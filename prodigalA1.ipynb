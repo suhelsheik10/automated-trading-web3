{
 "cells": [
  {
   "cell_type": "code",
   "execution_count": 1,
   "id": "5612f1e3-941e-46f3-86e0-780a522f10c8",
   "metadata": {},
   "outputs": [
    {
     "name": "stdout",
     "output_type": "stream",
     "text": [
      "✅ Jupyter Notebook is working!\n"
     ]
    }
   ],
   "source": [
    "print(\"✅ Jupyter Notebook is working!\")\n"
   ]
  },
  {
   "cell_type": "code",
   "execution_count": 2,
   "id": "f82ed0ce-561c-48e3-9741-8c805b331f21",
   "metadata": {},
   "outputs": [
    {
     "name": "stderr",
     "output_type": "stream",
     "text": [
      "C:\\Users\\SHEIK MOHAMMED SUHEL\\AppData\\Local\\Programs\\Python\\Python311\\Lib\\site-packages\\tqdm\\auto.py:21: TqdmWarning: IProgress not found. Please update jupyter and ipywidgets. See https://ipywidgets.readthedocs.io/en/stable/user_install.html\n",
      "  from .autonotebook import tqdm as notebook_tqdm\n"
     ]
    },
    {
     "name": "stdout",
     "output_type": "stream",
     "text": [
      "✅ All libraries imported successfully!\n"
     ]
    }
   ],
   "source": [
    "import web3\n",
    "import ccxt\n",
    "import torch\n",
    "import transformers\n",
    "import pandas\n",
    "import numpy\n",
    "\n",
    "print(\"✅ All libraries imported successfully!\")\n"
   ]
  },
  {
   "cell_type": "code",
   "execution_count": 3,
   "id": "76bd19e6-dc8b-4f1e-944f-61e91ac30be5",
   "metadata": {},
   "outputs": [
    {
     "name": "stdout",
     "output_type": "stream",
     "text": [
      "Requirement already satisfied: web3 in c:\\users\\sheik mohammed suhel\\appdata\\local\\programs\\python\\python311\\lib\\site-packages (7.9.0)\n",
      "Requirement already satisfied: eth-abi>=5.0.1 in c:\\users\\sheik mohammed suhel\\appdata\\local\\programs\\python\\python311\\lib\\site-packages (from web3) (5.2.0)\n",
      "Requirement already satisfied: eth-account>=0.13.1 in c:\\users\\sheik mohammed suhel\\appdata\\local\\programs\\python\\python311\\lib\\site-packages (from web3) (0.13.5)\n",
      "Requirement already satisfied: eth-hash>=0.5.1 in c:\\users\\sheik mohammed suhel\\appdata\\local\\programs\\python\\python311\\lib\\site-packages (from eth-hash[pycryptodome]>=0.5.1->web3) (0.7.1)\n",
      "Requirement already satisfied: eth-typing>=5.0.0 in c:\\users\\sheik mohammed suhel\\appdata\\local\\programs\\python\\python311\\lib\\site-packages (from web3) (5.2.0)\n",
      "Requirement already satisfied: eth-utils>=5.0.0 in c:\\users\\sheik mohammed suhel\\appdata\\local\\programs\\python\\python311\\lib\\site-packages (from web3) (5.2.0)\n",
      "Requirement already satisfied: hexbytes>=1.2.0 in c:\\users\\sheik mohammed suhel\\appdata\\local\\programs\\python\\python311\\lib\\site-packages (from web3) (1.3.0)\n",
      "Requirement already satisfied: aiohttp>=3.7.4.post0 in c:\\users\\sheik mohammed suhel\\appdata\\local\\programs\\python\\python311\\lib\\site-packages (from web3) (3.10.11)\n",
      "Requirement already satisfied: pydantic>=2.4.0 in c:\\users\\sheik mohammed suhel\\appdata\\local\\programs\\python\\python311\\lib\\site-packages (from web3) (2.9.2)\n",
      "Requirement already satisfied: pywin32>=223 in c:\\users\\sheik mohammed suhel\\appdata\\local\\programs\\python\\python311\\lib\\site-packages (from web3) (309)\n",
      "Requirement already satisfied: requests>=2.23.0 in c:\\users\\sheik mohammed suhel\\appdata\\local\\programs\\python\\python311\\lib\\site-packages (from web3) (2.32.3)\n",
      "Requirement already satisfied: typing-extensions>=4.0.1 in c:\\users\\sheik mohammed suhel\\appdata\\local\\programs\\python\\python311\\lib\\site-packages (from web3) (4.12.2)\n",
      "Requirement already satisfied: types-requests>=2.0.0 in c:\\users\\sheik mohammed suhel\\appdata\\local\\programs\\python\\python311\\lib\\site-packages (from web3) (2.32.0.20250306)\n",
      "Requirement already satisfied: websockets<14.0.0,>=10.0.0 in c:\\users\\sheik mohammed suhel\\appdata\\local\\programs\\python\\python311\\lib\\site-packages (from web3) (13.1)\n",
      "Requirement already satisfied: pyunormalize>=15.0.0 in c:\\users\\sheik mohammed suhel\\appdata\\local\\programs\\python\\python311\\lib\\site-packages (from web3) (16.0.0)\n",
      "Requirement already satisfied: aiohappyeyeballs>=2.3.0 in c:\\users\\sheik mohammed suhel\\appdata\\local\\programs\\python\\python311\\lib\\site-packages (from aiohttp>=3.7.4.post0->web3) (2.4.3)\n",
      "Requirement already satisfied: aiosignal>=1.1.2 in c:\\users\\sheik mohammed suhel\\appdata\\local\\programs\\python\\python311\\lib\\site-packages (from aiohttp>=3.7.4.post0->web3) (1.3.1)\n",
      "Requirement already satisfied: attrs>=17.3.0 in c:\\users\\sheik mohammed suhel\\appdata\\local\\programs\\python\\python311\\lib\\site-packages (from aiohttp>=3.7.4.post0->web3) (24.2.0)\n",
      "Requirement already satisfied: frozenlist>=1.1.1 in c:\\users\\sheik mohammed suhel\\appdata\\local\\programs\\python\\python311\\lib\\site-packages (from aiohttp>=3.7.4.post0->web3) (1.5.0)\n",
      "Requirement already satisfied: multidict<7.0,>=4.5 in c:\\users\\sheik mohammed suhel\\appdata\\local\\programs\\python\\python311\\lib\\site-packages (from aiohttp>=3.7.4.post0->web3) (6.1.0)\n",
      "Requirement already satisfied: yarl<2.0,>=1.12.0 in c:\\users\\sheik mohammed suhel\\appdata\\local\\programs\\python\\python311\\lib\\site-packages (from aiohttp>=3.7.4.post0->web3) (1.17.2)\n",
      "Requirement already satisfied: parsimonious<0.11.0,>=0.10.0 in c:\\users\\sheik mohammed suhel\\appdata\\local\\programs\\python\\python311\\lib\\site-packages (from eth-abi>=5.0.1->web3) (0.10.0)\n",
      "Requirement already satisfied: bitarray>=2.4.0 in c:\\users\\sheik mohammed suhel\\appdata\\local\\programs\\python\\python311\\lib\\site-packages (from eth-account>=0.13.1->web3) (3.1.1)\n",
      "Requirement already satisfied: eth-keyfile<0.9.0,>=0.7.0 in c:\\users\\sheik mohammed suhel\\appdata\\local\\programs\\python\\python311\\lib\\site-packages (from eth-account>=0.13.1->web3) (0.8.1)\n",
      "Requirement already satisfied: eth-keys>=0.4.0 in c:\\users\\sheik mohammed suhel\\appdata\\local\\programs\\python\\python311\\lib\\site-packages (from eth-account>=0.13.1->web3) (0.6.1)\n",
      "Requirement already satisfied: eth-rlp>=2.1.0 in c:\\users\\sheik mohammed suhel\\appdata\\local\\programs\\python\\python311\\lib\\site-packages (from eth-account>=0.13.1->web3) (2.2.0)\n",
      "Requirement already satisfied: rlp>=1.0.0 in c:\\users\\sheik mohammed suhel\\appdata\\local\\programs\\python\\python311\\lib\\site-packages (from eth-account>=0.13.1->web3) (4.1.0)\n",
      "Requirement already satisfied: ckzg>=2.0.0 in c:\\users\\sheik mohammed suhel\\appdata\\local\\programs\\python\\python311\\lib\\site-packages (from eth-account>=0.13.1->web3) (2.0.1)\n",
      "Requirement already satisfied: pycryptodome<4,>=3.6.6 in c:\\users\\sheik mohammed suhel\\appdata\\local\\programs\\python\\python311\\lib\\site-packages (from eth-hash[pycryptodome]>=0.5.1->web3) (3.21.0)\n",
      "Requirement already satisfied: cytoolz>=0.10.1 in c:\\users\\sheik mohammed suhel\\appdata\\local\\programs\\python\\python311\\lib\\site-packages (from eth-utils>=5.0.0->web3) (1.0.1)\n",
      "Requirement already satisfied: annotated-types>=0.6.0 in c:\\users\\sheik mohammed suhel\\appdata\\local\\programs\\python\\python311\\lib\\site-packages (from pydantic>=2.4.0->web3) (0.7.0)\n",
      "Requirement already satisfied: pydantic-core==2.23.4 in c:\\users\\sheik mohammed suhel\\appdata\\local\\programs\\python\\python311\\lib\\site-packages (from pydantic>=2.4.0->web3) (2.23.4)\n",
      "Requirement already satisfied: charset-normalizer<4,>=2 in c:\\users\\sheik mohammed suhel\\appdata\\local\\programs\\python\\python311\\lib\\site-packages (from requests>=2.23.0->web3) (3.4.0)\n",
      "Requirement already satisfied: idna<4,>=2.5 in c:\\users\\sheik mohammed suhel\\appdata\\local\\programs\\python\\python311\\lib\\site-packages (from requests>=2.23.0->web3) (3.10)\n",
      "Requirement already satisfied: urllib3<3,>=1.21.1 in c:\\users\\sheik mohammed suhel\\appdata\\local\\programs\\python\\python311\\lib\\site-packages (from requests>=2.23.0->web3) (2.2.3)\n",
      "Requirement already satisfied: certifi>=2017.4.17 in c:\\users\\sheik mohammed suhel\\appdata\\local\\programs\\python\\python311\\lib\\site-packages (from requests>=2.23.0->web3) (2024.8.30)\n",
      "Requirement already satisfied: toolz>=0.8.0 in c:\\users\\sheik mohammed suhel\\appdata\\local\\programs\\python\\python311\\lib\\site-packages (from cytoolz>=0.10.1->eth-utils>=5.0.0->web3) (1.0.0)\n",
      "Requirement already satisfied: regex>=2022.3.15 in c:\\users\\sheik mohammed suhel\\appdata\\local\\programs\\python\\python311\\lib\\site-packages (from parsimonious<0.11.0,>=0.10.0->eth-abi>=5.0.1->web3) (2024.11.6)\n",
      "Requirement already satisfied: propcache>=0.2.0 in c:\\users\\sheik mohammed suhel\\appdata\\local\\programs\\python\\python311\\lib\\site-packages (from yarl<2.0,>=1.12.0->aiohttp>=3.7.4.post0->web3) (0.2.0)\n"
     ]
    },
    {
     "name": "stderr",
     "output_type": "stream",
     "text": [
      "\n",
      "[notice] A new release of pip is available: 24.3.1 -> 25.0.1\n",
      "[notice] To update, run: C:\\Users\\SHEIK MOHAMMED SUHEL\\AppData\\Local\\Programs\\Python\\Python311\\python.exe -m pip install --upgrade pip\n"
     ]
    }
   ],
   "source": [
    "!pip install web3\n"
   ]
  },
  {
   "cell_type": "code",
   "execution_count": 4,
   "id": "022f91e2-c821-4dfe-a484-4cd22af16c12",
   "metadata": {},
   "outputs": [
    {
     "name": "stdout",
     "output_type": "stream",
     "text": [
      "Requirement already satisfied: ccxt in c:\\users\\sheik mohammed suhel\\appdata\\local\\programs\\python\\python311\\lib\\site-packages (4.4.67)\n",
      "Requirement already satisfied: torch in c:\\users\\sheik mohammed suhel\\appdata\\local\\programs\\python\\python311\\lib\\site-packages (2.6.0)\n",
      "Requirement already satisfied: transformers in c:\\users\\sheik mohammed suhel\\appdata\\local\\programs\\python\\python311\\lib\\site-packages (4.49.0)\n",
      "Requirement already satisfied: pandas in c:\\users\\sheik mohammed suhel\\appdata\\local\\programs\\python\\python311\\lib\\site-packages (2.2.3)\n",
      "Requirement already satisfied: numpy in c:\\users\\sheik mohammed suhel\\appdata\\local\\programs\\python\\python311\\lib\\site-packages (2.1.3)\n",
      "Requirement already satisfied: setuptools>=60.9.0 in c:\\users\\sheik mohammed suhel\\appdata\\local\\programs\\python\\python311\\lib\\site-packages (from ccxt) (65.5.0)\n",
      "Requirement already satisfied: certifi>=2018.1.18 in c:\\users\\sheik mohammed suhel\\appdata\\local\\programs\\python\\python311\\lib\\site-packages (from ccxt) (2024.8.30)\n",
      "Requirement already satisfied: requests>=2.18.4 in c:\\users\\sheik mohammed suhel\\appdata\\local\\programs\\python\\python311\\lib\\site-packages (from ccxt) (2.32.3)\n",
      "Requirement already satisfied: cryptography>=2.6.1 in c:\\users\\sheik mohammed suhel\\appdata\\local\\programs\\python\\python311\\lib\\site-packages (from ccxt) (44.0.2)\n",
      "Requirement already satisfied: typing-extensions>=4.4.0 in c:\\users\\sheik mohammed suhel\\appdata\\local\\programs\\python\\python311\\lib\\site-packages (from ccxt) (4.12.2)\n",
      "Requirement already satisfied: aiohttp<=3.10.11 in c:\\users\\sheik mohammed suhel\\appdata\\local\\programs\\python\\python311\\lib\\site-packages (from ccxt) (3.10.11)\n",
      "Requirement already satisfied: aiodns>=1.1.1 in c:\\users\\sheik mohammed suhel\\appdata\\local\\programs\\python\\python311\\lib\\site-packages (from ccxt) (3.2.0)\n",
      "Requirement already satisfied: yarl>=1.7.2 in c:\\users\\sheik mohammed suhel\\appdata\\local\\programs\\python\\python311\\lib\\site-packages (from ccxt) (1.17.2)\n",
      "Requirement already satisfied: filelock in c:\\users\\sheik mohammed suhel\\appdata\\local\\programs\\python\\python311\\lib\\site-packages (from torch) (3.16.1)\n",
      "Requirement already satisfied: networkx in c:\\users\\sheik mohammed suhel\\appdata\\local\\programs\\python\\python311\\lib\\site-packages (from torch) (3.4.2)\n",
      "Requirement already satisfied: jinja2 in c:\\users\\sheik mohammed suhel\\appdata\\local\\programs\\python\\python311\\lib\\site-packages (from torch) (3.1.4)\n",
      "Requirement already satisfied: fsspec in c:\\users\\sheik mohammed suhel\\appdata\\local\\programs\\python\\python311\\lib\\site-packages (from torch) (2024.10.0)\n",
      "Requirement already satisfied: sympy==1.13.1 in c:\\users\\sheik mohammed suhel\\appdata\\local\\programs\\python\\python311\\lib\\site-packages (from torch) (1.13.1)\n",
      "Requirement already satisfied: mpmath<1.4,>=1.1.0 in c:\\users\\sheik mohammed suhel\\appdata\\local\\programs\\python\\python311\\lib\\site-packages (from sympy==1.13.1->torch) (1.3.0)\n",
      "Requirement already satisfied: huggingface-hub<1.0,>=0.26.0 in c:\\users\\sheik mohammed suhel\\appdata\\local\\programs\\python\\python311\\lib\\site-packages (from transformers) (0.26.2)\n",
      "Requirement already satisfied: packaging>=20.0 in c:\\users\\sheik mohammed suhel\\appdata\\local\\programs\\python\\python311\\lib\\site-packages (from transformers) (24.2)\n",
      "Requirement already satisfied: pyyaml>=5.1 in c:\\users\\sheik mohammed suhel\\appdata\\local\\programs\\python\\python311\\lib\\site-packages (from transformers) (6.0.2)\n",
      "Requirement already satisfied: regex!=2019.12.17 in c:\\users\\sheik mohammed suhel\\appdata\\local\\programs\\python\\python311\\lib\\site-packages (from transformers) (2024.11.6)\n",
      "Requirement already satisfied: tokenizers<0.22,>=0.21 in c:\\users\\sheik mohammed suhel\\appdata\\local\\programs\\python\\python311\\lib\\site-packages (from transformers) (0.21.1)\n",
      "Requirement already satisfied: safetensors>=0.4.1 in c:\\users\\sheik mohammed suhel\\appdata\\local\\programs\\python\\python311\\lib\\site-packages (from transformers) (0.5.3)\n",
      "Requirement already satisfied: tqdm>=4.27 in c:\\users\\sheik mohammed suhel\\appdata\\local\\programs\\python\\python311\\lib\\site-packages (from transformers) (4.67.0)\n",
      "Requirement already satisfied: python-dateutil>=2.8.2 in c:\\users\\sheik mohammed suhel\\appdata\\local\\programs\\python\\python311\\lib\\site-packages (from pandas) (2.9.0.post0)\n",
      "Requirement already satisfied: pytz>=2020.1 in c:\\users\\sheik mohammed suhel\\appdata\\local\\programs\\python\\python311\\lib\\site-packages (from pandas) (2024.2)\n",
      "Requirement already satisfied: tzdata>=2022.7 in c:\\users\\sheik mohammed suhel\\appdata\\local\\programs\\python\\python311\\lib\\site-packages (from pandas) (2024.2)\n",
      "Requirement already satisfied: pycares>=4.0.0 in c:\\users\\sheik mohammed suhel\\appdata\\local\\programs\\python\\python311\\lib\\site-packages (from aiodns>=1.1.1->ccxt) (4.5.0)\n",
      "Requirement already satisfied: aiohappyeyeballs>=2.3.0 in c:\\users\\sheik mohammed suhel\\appdata\\local\\programs\\python\\python311\\lib\\site-packages (from aiohttp<=3.10.11->ccxt) (2.4.3)\n",
      "Requirement already satisfied: aiosignal>=1.1.2 in c:\\users\\sheik mohammed suhel\\appdata\\local\\programs\\python\\python311\\lib\\site-packages (from aiohttp<=3.10.11->ccxt) (1.3.1)\n",
      "Requirement already satisfied: attrs>=17.3.0 in c:\\users\\sheik mohammed suhel\\appdata\\local\\programs\\python\\python311\\lib\\site-packages (from aiohttp<=3.10.11->ccxt) (24.2.0)\n",
      "Requirement already satisfied: frozenlist>=1.1.1 in c:\\users\\sheik mohammed suhel\\appdata\\local\\programs\\python\\python311\\lib\\site-packages (from aiohttp<=3.10.11->ccxt) (1.5.0)\n",
      "Requirement already satisfied: multidict<7.0,>=4.5 in c:\\users\\sheik mohammed suhel\\appdata\\local\\programs\\python\\python311\\lib\\site-packages (from aiohttp<=3.10.11->ccxt) (6.1.0)\n",
      "Requirement already satisfied: cffi>=1.12 in c:\\users\\sheik mohammed suhel\\appdata\\local\\programs\\python\\python311\\lib\\site-packages (from cryptography>=2.6.1->ccxt) (1.17.1)\n",
      "Requirement already satisfied: six>=1.5 in c:\\users\\sheik mohammed suhel\\appdata\\local\\programs\\python\\python311\\lib\\site-packages (from python-dateutil>=2.8.2->pandas) (1.16.0)\n",
      "Requirement already satisfied: charset-normalizer<4,>=2 in c:\\users\\sheik mohammed suhel\\appdata\\local\\programs\\python\\python311\\lib\\site-packages (from requests>=2.18.4->ccxt) (3.4.0)\n",
      "Requirement already satisfied: idna<4,>=2.5 in c:\\users\\sheik mohammed suhel\\appdata\\local\\programs\\python\\python311\\lib\\site-packages (from requests>=2.18.4->ccxt) (3.10)\n",
      "Requirement already satisfied: urllib3<3,>=1.21.1 in c:\\users\\sheik mohammed suhel\\appdata\\local\\programs\\python\\python311\\lib\\site-packages (from requests>=2.18.4->ccxt) (2.2.3)\n",
      "Requirement already satisfied: colorama in c:\\users\\sheik mohammed suhel\\appdata\\local\\programs\\python\\python311\\lib\\site-packages (from tqdm>=4.27->transformers) (0.4.6)\n",
      "Requirement already satisfied: propcache>=0.2.0 in c:\\users\\sheik mohammed suhel\\appdata\\local\\programs\\python\\python311\\lib\\site-packages (from yarl>=1.7.2->ccxt) (0.2.0)\n",
      "Requirement already satisfied: MarkupSafe>=2.0 in c:\\users\\sheik mohammed suhel\\appdata\\local\\programs\\python\\python311\\lib\\site-packages (from jinja2->torch) (3.0.2)\n",
      "Requirement already satisfied: pycparser in c:\\users\\sheik mohammed suhel\\appdata\\local\\programs\\python\\python311\\lib\\site-packages (from cffi>=1.12->cryptography>=2.6.1->ccxt) (2.22)\n"
     ]
    },
    {
     "name": "stderr",
     "output_type": "stream",
     "text": [
      "\n",
      "[notice] A new release of pip is available: 24.3.1 -> 25.0.1\n",
      "[notice] To update, run: C:\\Users\\SHEIK MOHAMMED SUHEL\\AppData\\Local\\Programs\\Python\\Python311\\python.exe -m pip install --upgrade pip\n"
     ]
    }
   ],
   "source": [
    "!pip install ccxt torch transformers pandas numpy\n"
   ]
  },
  {
   "cell_type": "code",
   "execution_count": 1,
   "id": "42ad5bf5-5d89-4283-8f9d-423afc099a43",
   "metadata": {},
   "outputs": [
    {
     "name": "stdout",
     "output_type": "stream",
     "text": [
      "Requirement already satisfied: ccxt in c:\\users\\sheik mohammed suhel\\appdata\\local\\programs\\python\\python311\\lib\\site-packages (4.4.67)\n",
      "Requirement already satisfied: torch in c:\\users\\sheik mohammed suhel\\appdata\\local\\programs\\python\\python311\\lib\\site-packages (2.6.0)\n",
      "Requirement already satisfied: transformers in c:\\users\\sheik mohammed suhel\\appdata\\local\\programs\\python\\python311\\lib\\site-packages (4.49.0)\n",
      "Requirement already satisfied: pandas in c:\\users\\sheik mohammed suhel\\appdata\\local\\programs\\python\\python311\\lib\\site-packages (2.2.3)\n",
      "Requirement already satisfied: numpy in c:\\users\\sheik mohammed suhel\\appdata\\local\\programs\\python\\python311\\lib\\site-packages (2.1.3)\n",
      "Requirement already satisfied: setuptools>=60.9.0 in c:\\users\\sheik mohammed suhel\\appdata\\local\\programs\\python\\python311\\lib\\site-packages (from ccxt) (65.5.0)\n",
      "Requirement already satisfied: certifi>=2018.1.18 in c:\\users\\sheik mohammed suhel\\appdata\\local\\programs\\python\\python311\\lib\\site-packages (from ccxt) (2024.8.30)\n",
      "Requirement already satisfied: requests>=2.18.4 in c:\\users\\sheik mohammed suhel\\appdata\\local\\programs\\python\\python311\\lib\\site-packages (from ccxt) (2.32.3)\n",
      "Requirement already satisfied: cryptography>=2.6.1 in c:\\users\\sheik mohammed suhel\\appdata\\local\\programs\\python\\python311\\lib\\site-packages (from ccxt) (44.0.2)\n",
      "Requirement already satisfied: typing-extensions>=4.4.0 in c:\\users\\sheik mohammed suhel\\appdata\\local\\programs\\python\\python311\\lib\\site-packages (from ccxt) (4.12.2)\n",
      "Requirement already satisfied: aiohttp<=3.10.11 in c:\\users\\sheik mohammed suhel\\appdata\\local\\programs\\python\\python311\\lib\\site-packages (from ccxt) (3.10.11)\n",
      "Requirement already satisfied: aiodns>=1.1.1 in c:\\users\\sheik mohammed suhel\\appdata\\local\\programs\\python\\python311\\lib\\site-packages (from ccxt) (3.2.0)\n",
      "Requirement already satisfied: yarl>=1.7.2 in c:\\users\\sheik mohammed suhel\\appdata\\local\\programs\\python\\python311\\lib\\site-packages (from ccxt) (1.17.2)\n",
      "Requirement already satisfied: filelock in c:\\users\\sheik mohammed suhel\\appdata\\local\\programs\\python\\python311\\lib\\site-packages (from torch) (3.16.1)\n",
      "Requirement already satisfied: networkx in c:\\users\\sheik mohammed suhel\\appdata\\local\\programs\\python\\python311\\lib\\site-packages (from torch) (3.4.2)\n",
      "Requirement already satisfied: jinja2 in c:\\users\\sheik mohammed suhel\\appdata\\local\\programs\\python\\python311\\lib\\site-packages (from torch) (3.1.4)\n",
      "Requirement already satisfied: fsspec in c:\\users\\sheik mohammed suhel\\appdata\\local\\programs\\python\\python311\\lib\\site-packages (from torch) (2024.10.0)\n",
      "Requirement already satisfied: sympy==1.13.1 in c:\\users\\sheik mohammed suhel\\appdata\\local\\programs\\python\\python311\\lib\\site-packages (from torch) (1.13.1)\n",
      "Requirement already satisfied: mpmath<1.4,>=1.1.0 in c:\\users\\sheik mohammed suhel\\appdata\\local\\programs\\python\\python311\\lib\\site-packages (from sympy==1.13.1->torch) (1.3.0)\n",
      "Requirement already satisfied: huggingface-hub<1.0,>=0.26.0 in c:\\users\\sheik mohammed suhel\\appdata\\local\\programs\\python\\python311\\lib\\site-packages (from transformers) (0.26.2)\n",
      "Requirement already satisfied: packaging>=20.0 in c:\\users\\sheik mohammed suhel\\appdata\\local\\programs\\python\\python311\\lib\\site-packages (from transformers) (24.2)\n",
      "Requirement already satisfied: pyyaml>=5.1 in c:\\users\\sheik mohammed suhel\\appdata\\local\\programs\\python\\python311\\lib\\site-packages (from transformers) (6.0.2)\n",
      "Requirement already satisfied: regex!=2019.12.17 in c:\\users\\sheik mohammed suhel\\appdata\\local\\programs\\python\\python311\\lib\\site-packages (from transformers) (2024.11.6)\n",
      "Requirement already satisfied: tokenizers<0.22,>=0.21 in c:\\users\\sheik mohammed suhel\\appdata\\local\\programs\\python\\python311\\lib\\site-packages (from transformers) (0.21.1)\n",
      "Requirement already satisfied: safetensors>=0.4.1 in c:\\users\\sheik mohammed suhel\\appdata\\local\\programs\\python\\python311\\lib\\site-packages (from transformers) (0.5.3)\n",
      "Requirement already satisfied: tqdm>=4.27 in c:\\users\\sheik mohammed suhel\\appdata\\local\\programs\\python\\python311\\lib\\site-packages (from transformers) (4.67.0)\n",
      "Requirement already satisfied: python-dateutil>=2.8.2 in c:\\users\\sheik mohammed suhel\\appdata\\local\\programs\\python\\python311\\lib\\site-packages (from pandas) (2.9.0.post0)\n",
      "Requirement already satisfied: pytz>=2020.1 in c:\\users\\sheik mohammed suhel\\appdata\\local\\programs\\python\\python311\\lib\\site-packages (from pandas) (2024.2)\n",
      "Requirement already satisfied: tzdata>=2022.7 in c:\\users\\sheik mohammed suhel\\appdata\\local\\programs\\python\\python311\\lib\\site-packages (from pandas) (2024.2)\n",
      "Requirement already satisfied: pycares>=4.0.0 in c:\\users\\sheik mohammed suhel\\appdata\\local\\programs\\python\\python311\\lib\\site-packages (from aiodns>=1.1.1->ccxt) (4.5.0)\n",
      "Requirement already satisfied: aiohappyeyeballs>=2.3.0 in c:\\users\\sheik mohammed suhel\\appdata\\local\\programs\\python\\python311\\lib\\site-packages (from aiohttp<=3.10.11->ccxt) (2.4.3)\n",
      "Requirement already satisfied: aiosignal>=1.1.2 in c:\\users\\sheik mohammed suhel\\appdata\\local\\programs\\python\\python311\\lib\\site-packages (from aiohttp<=3.10.11->ccxt) (1.3.1)\n",
      "Requirement already satisfied: attrs>=17.3.0 in c:\\users\\sheik mohammed suhel\\appdata\\local\\programs\\python\\python311\\lib\\site-packages (from aiohttp<=3.10.11->ccxt) (24.2.0)\n",
      "Requirement already satisfied: frozenlist>=1.1.1 in c:\\users\\sheik mohammed suhel\\appdata\\local\\programs\\python\\python311\\lib\\site-packages (from aiohttp<=3.10.11->ccxt) (1.5.0)\n",
      "Requirement already satisfied: multidict<7.0,>=4.5 in c:\\users\\sheik mohammed suhel\\appdata\\local\\programs\\python\\python311\\lib\\site-packages (from aiohttp<=3.10.11->ccxt) (6.1.0)\n",
      "Requirement already satisfied: cffi>=1.12 in c:\\users\\sheik mohammed suhel\\appdata\\local\\programs\\python\\python311\\lib\\site-packages (from cryptography>=2.6.1->ccxt) (1.17.1)\n",
      "Requirement already satisfied: six>=1.5 in c:\\users\\sheik mohammed suhel\\appdata\\local\\programs\\python\\python311\\lib\\site-packages (from python-dateutil>=2.8.2->pandas) (1.16.0)\n",
      "Requirement already satisfied: charset-normalizer<4,>=2 in c:\\users\\sheik mohammed suhel\\appdata\\local\\programs\\python\\python311\\lib\\site-packages (from requests>=2.18.4->ccxt) (3.4.0)\n",
      "Requirement already satisfied: idna<4,>=2.5 in c:\\users\\sheik mohammed suhel\\appdata\\local\\programs\\python\\python311\\lib\\site-packages (from requests>=2.18.4->ccxt) (3.10)\n",
      "Requirement already satisfied: urllib3<3,>=1.21.1 in c:\\users\\sheik mohammed suhel\\appdata\\local\\programs\\python\\python311\\lib\\site-packages (from requests>=2.18.4->ccxt) (2.2.3)\n",
      "Requirement already satisfied: colorama in c:\\users\\sheik mohammed suhel\\appdata\\local\\programs\\python\\python311\\lib\\site-packages (from tqdm>=4.27->transformers) (0.4.6)\n",
      "Requirement already satisfied: propcache>=0.2.0 in c:\\users\\sheik mohammed suhel\\appdata\\local\\programs\\python\\python311\\lib\\site-packages (from yarl>=1.7.2->ccxt) (0.2.0)\n",
      "Requirement already satisfied: MarkupSafe>=2.0 in c:\\users\\sheik mohammed suhel\\appdata\\local\\programs\\python\\python311\\lib\\site-packages (from jinja2->torch) (3.0.2)\n",
      "Requirement already satisfied: pycparser in c:\\users\\sheik mohammed suhel\\appdata\\local\\programs\\python\\python311\\lib\\site-packages (from cffi>=1.12->cryptography>=2.6.1->ccxt) (2.22)\n"
     ]
    },
    {
     "name": "stderr",
     "output_type": "stream",
     "text": [
      "\n",
      "[notice] A new release of pip is available: 24.3.1 -> 25.0.1\n",
      "[notice] To update, run: C:\\Users\\SHEIK MOHAMMED SUHEL\\AppData\\Local\\Programs\\Python\\Python311\\python.exe -m pip install --upgrade pip\n"
     ]
    }
   ],
   "source": [
    "!pip install ccxt torch transformers pandas numpy\n"
   ]
  },
  {
   "cell_type": "code",
   "execution_count": null,
   "id": "28395d05-58bd-415f-aa0b-ec98ab044836",
   "metadata": {},
   "outputs": [],
   "source": []
  }
 ],
 "metadata": {
  "kernelspec": {
   "display_name": "Python 3 (ipykernel)",
   "language": "python",
   "name": "python3"
  },
  "language_info": {
   "codemirror_mode": {
    "name": "ipython",
    "version": 3
   },
   "file_extension": ".py",
   "mimetype": "text/x-python",
   "name": "python",
   "nbconvert_exporter": "python",
   "pygments_lexer": "ipython3",
   "version": "3.11.9"
  }
 },
 "nbformat": 4,
 "nbformat_minor": 5
}
